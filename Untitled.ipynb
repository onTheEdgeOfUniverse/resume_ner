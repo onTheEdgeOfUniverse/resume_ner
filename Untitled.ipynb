{
  "cells": [
    {
      "cell_type": "code",
      "execution_count": null,
      "id": "a323c6a0",
      "metadata": {
        "id": "a323c6a0"
      },
      "outputs": [],
      "source": [
        "# !pip install spacy\n",
        "import spacy\n",
        "import pickle\n",
        "import random\n",
        "# "
      ]
    },
    {
      "cell_type": "code",
      "execution_count": null,
      "id": "7b72ac60",
      "metadata": {
        "id": "7b72ac60"
      },
      "outputs": [],
      "source": [
        "train_data=pickle.load(open('train_data.pkl','rb'))"
      ]
    },
    {
      "cell_type": "code",
      "execution_count": null,
      "id": "f16374a7",
      "metadata": {
        "colab": {
          "base_uri": "https://localhost:8080/"
        },
        "id": "f16374a7",
        "outputId": "496c87ef-7689-4d49-f1c2-76ec1b562e71"
      },
      "outputs": [
        {
          "output_type": "execute_result",
          "data": {
            "text/plain": [
              "('Govardhana K Senior Software Engineer  Bengaluru, Karnataka, Karnataka - Email me on Indeed: indeed.com/r/Govardhana-K/ b2de315d95905b68  Total IT experience 5 Years 6 Months Cloud Lending Solutions INC 4 Month • Salesforce Developer Oracle 5 Years 2 Month • Core Java Developer Languages Core Java, Go Lang Oracle PL-SQL programming, Sales Force Developer with APEX.  Designations & Promotions  Willing to relocate: Anywhere  WORK EXPERIENCE  Senior Software Engineer  Cloud Lending Solutions -  Bangalore, Karnataka -  January 2018 to Present  Present  Senior Consultant  Oracle -  Bangalore, Karnataka -  November 2016 to December 2017  Staff Consultant  Oracle -  Bangalore, Karnataka -  January 2014 to October 2016  Associate Consultant  Oracle -  Bangalore, Karnataka -  November 2012 to December 2013  EDUCATION  B.E in Computer Science Engineering  Adithya Institute of Technology -  Tamil Nadu  September 2008 to June 2012  https://www.indeed.com/r/Govardhana-K/b2de315d95905b68?isid=rex-download&ikw=download-top&co=IN https://www.indeed.com/r/Govardhana-K/b2de315d95905b68?isid=rex-download&ikw=download-top&co=IN   SKILLS  APEX. (Less than 1 year), Data Structures (3 years), FLEXCUBE (5 years), Oracle (5 years), Algorithms (3 years)  LINKS  https://www.linkedin.com/in/govardhana-k-61024944/  ADDITIONAL INFORMATION  Technical Proficiency:  Languages: Core Java, Go Lang, Data Structures & Algorithms, Oracle PL-SQL programming, Sales Force with APEX. Tools: RADTool, Jdeveloper, NetBeans, Eclipse, SQL developer, PL/SQL Developer, WinSCP, Putty Web Technologies: JavaScript, XML, HTML, Webservice  Operating Systems: Linux, Windows Version control system SVN & Git-Hub Databases: Oracle Middleware: Web logic, OC4J Product FLEXCUBE: Oracle FLEXCUBE Versions 10.x, 11.x and 12.x  https://www.linkedin.com/in/govardhana-k-61024944/',\n",
              " {'entities': [(1749, 1755, 'Companies worked at'),\n",
              "   (1696, 1702, 'Companies worked at'),\n",
              "   (1417, 1423, 'Companies worked at'),\n",
              "   (1356, 1793, 'Skills'),\n",
              "   (1209, 1215, 'Companies worked at'),\n",
              "   (1136, 1248, 'Skills'),\n",
              "   (928, 932, 'Graduation Year'),\n",
              "   (858, 889, 'College Name'),\n",
              "   (821, 856, 'Degree'),\n",
              "   (787, 791, 'Graduation Year'),\n",
              "   (744, 750, 'Companies worked at'),\n",
              "   (722, 742, 'Designation'),\n",
              "   (658, 664, 'Companies worked at'),\n",
              "   (640, 656, 'Designation'),\n",
              "   (574, 580, 'Companies worked at'),\n",
              "   (555, 573, 'Designation'),\n",
              "   (470, 493, 'Companies worked at'),\n",
              "   (444, 469, 'Designation'),\n",
              "   (308, 314, 'Companies worked at'),\n",
              "   (234, 240, 'Companies worked at'),\n",
              "   (175, 198, 'Companies worked at'),\n",
              "   (93, 137, 'Email Address'),\n",
              "   (39, 48, 'Location'),\n",
              "   (13, 38, 'Designation'),\n",
              "   (0, 12, 'Name')]})"
            ]
          },
          "metadata": {},
          "execution_count": 21
        }
      ],
      "source": [
        "train_data[0]"
      ]
    },
    {
      "cell_type": "code",
      "execution_count": null,
      "id": "57def712",
      "metadata": {
        "id": "57def712"
      },
      "outputs": [],
      "source": [
        "nlp=spacy.blank('en')\n",
        "\n",
        "def train_model(train_data):\n",
        "    if 'ner' not in nlp.pipe_names:\n",
        "        ner=nlp.create_pipe('ner')\n",
        "        nlp.add_pipe(ner,last=True)\n",
        "    for _,annotation in train_data:\n",
        "        for ent in annotation['entities']:\n",
        "            ner.add_label(ent[2])\n",
        "    other_pipes= [pipe for pipe in nlp.pipe_names if pipe!='ner']\n",
        "    with nlp.disable_pipes(*other_pipes):\n",
        "        optimizer=nlp.begin_training()\n",
        "        for itn in range(10):\n",
        "            print('starting iteration'+str(itn))\n",
        "            random.shuffle(train_data)\n",
        "            losses={}\n",
        "            index=0\n",
        "            for text,annotations in train_data:\n",
        "                try:\n",
        "                    nlp.update(\n",
        "                    [text],\n",
        "                    [annotations],\n",
        "                    drop=0.2,\n",
        "                    sgd=optimizer,\n",
        "                    losses=losses)\n",
        "                except Exception as  e:\n",
        "                    pass\n",
        "            print(losses)"
      ]
    },
    {
      "cell_type": "code",
      "source": [
        "train_model(train_data)\n"
      ],
      "metadata": {
        "colab": {
          "base_uri": "https://localhost:8080/"
        },
        "id": "8ssc9WLt2wrG",
        "outputId": "4568a7b8-714a-49b6-80e7-fdef1205573d"
      },
      "id": "8ssc9WLt2wrG",
      "execution_count": null,
      "outputs": [
        {
          "output_type": "stream",
          "name": "stdout",
          "text": [
            "starting iteration0\n",
            "{'ner': 16071.955878666377}\n",
            "starting iteration1\n",
            "{'ner': 10799.927185409786}\n",
            "starting iteration2\n",
            "{'ner': 7917.798948247133}\n",
            "starting iteration3\n",
            "{'ner': 7975.145289547207}\n",
            "starting iteration4\n",
            "{'ner': 6486.640810685209}\n",
            "starting iteration5\n",
            "{'ner': 5978.650637463111}\n",
            "starting iteration6\n",
            "{'ner': 6352.482686624402}\n",
            "starting iteration7\n",
            "{'ner': 4863.943980061786}\n",
            "starting iteration8\n",
            "{'ner': 6383.313849691289}\n",
            "starting iteration9\n",
            "{'ner': 4568.3688485000175}\n"
          ]
        }
      ]
    },
    {
      "cell_type": "code",
      "execution_count": null,
      "id": "34e2dd30",
      "metadata": {
        "id": "34e2dd30"
      },
      "outputs": [],
      "source": [
        "nlp.to_disk('project-code-v2')"
      ]
    },
    {
      "cell_type": "code",
      "execution_count": null,
      "id": "4eb37c7b",
      "metadata": {
        "colab": {
          "base_uri": "https://localhost:8080/"
        },
        "id": "4eb37c7b",
        "outputId": "69434381-7676-4ec5-84f9-0436519d3fb8"
      },
      "outputs": [
        {
          "output_type": "stream",
          "name": "stdout",
          "text": [
            "Vineeth Vijayan \"Store Executive\" - Orange City Hospital & Research Institute  Nagpur, Maharashtra, Maharashtra - Email me on Indeed: indeed.com/r/Vineeth-Vijayan/ ee84e7ea0695181f  I have over 2 years of experience working as a \"Store Executive\" in a reputed big organisation based in India. I am a hard worker and a very good learner. I aspire to grow in my career by joining a good organisation.  I am good at work and people management. I possess good computer knowledge. I have underwent training in courses like MS Excel Level 1, 2 &amp; 3. MS Word &amp; Powerpoint. I have experience working in ERP. I am a certified ISO 27001: 2013 Internal Auditor.  Willing to relocate: Anywhere  WORK EXPERIENCE  \"Store Executive\"  Orange City Hospital & Research Institute -  Nagpur, Maharashtra -  March 2016 to Present  Job Profile: - 1. Keep records to maintain inventory control, cost containment and to assure proper stock levels. 2. Rotate stock and arrange for disposal of surpluses. 3. Plan and perform work that involves ordering, receiving, inspecting, returning, unloading, shelving, packing, labeling and maintaining a perpetual inventory of items. 4. Coordinate freight handling, equipment moving and minor repairs. 5. Perform peripheral site-specific duties as required and instructed by supervisors. 6. Monitoring and updating stock details etc. in Mednet store software. Use ABC, VED &amp; FSN Stock Analysis methods when required. 7. Report any stock discrepancy to supervisor for appropriate action.  \"HR Officer \"  Gulf Warehousing Company Qatar - Agility Group -  January 2012 to July 2015  a multinational company catering Customers in the field of Warehousing, Freight Forwarding, Records Management, Courier and International Relocation Services.  Job Profile: - 1. Deliver new hires orientation program to enable new hires to adjust themselves to new working environment and facilitating newcomers joining formalities. 2. Design and develop Training Calendar and budget for all type of training programs, for the year ahead for all designations within the company, according to the needs of the business and Training Need Analysis survey results.  https://www.indeed.com/r/Vineeth-Vijayan/ee84e7ea0695181f?isid=rex-download&ikw=download-top&co=IN https://www.indeed.com/r/Vineeth-Vijayan/ee84e7ea0695181f?isid=rex-download&ikw=download-top&co=IN   3. Sourcing and coordinating with external vendors for training that are requested by line managers/departments. 4. Maintaining employee training records and updating it on a regular basis. 5. Assist Supervisors in developing and implementing changes in HR policies and procedures. 6. Coordinate in conducting employee engagement programs. 7. Support departments in complying with ISO Quality Management requirements and facilitate various HR related welfare activities.  \"Training Coordinator\"  M-Squared Software & Services - Kerala -  Kerala, IN -  July 2010 to December 2011  a US based company with headquarters in Nevada, Las Vegas that deals with security gadgets, medical transcription and software development.  Job Profile: - 1. Perform regular office administration duties that includes: Office infrastructure management, housekeeping supervision, responding and sending e-mails to head office and clients, monitoring time-in &amp; time-out of employees, managing employee leave status and office cash management. 2. Handle walk-in enquires, attend telephone calls and conduct course induction sessions for new joiners. 3. Train the students in work related processes. 4. Anchoring and conducting course related seminars in well-established educational institutions. 5. Manage training materials that are stipulated within the company regulations. 6. Formulating training programs and sending it to training manager and to all concerned departments for approval. 7. Preparing tools for training. 8. Organize the training that includes: distribution of training materials, monitor trainees in training and support trainers in training. 9. Record training plans and training programs. 10. Maintain employees and students database. 11. Record results of evaluation and training. 12. Archive records of training, including course content, the training, number of students, results, and feedback. 13. Conduct team huddles/counseling sessions for trainees when required.  \"Manager\"  Nair IT Pvt. Ltd -  Nagpur, Maharashtra -  September 2008 to July 2010  Client: Accentia Oak Technologies.  Job Profile: - 1. To manage the day-to-day planning, operation and problem-solving of the team to meet the required service level components, quality and productivity targets of the client.    2. Delivery of team statistics, quality and productivity targets &amp; indicators, taking note any downtime during the day and report it to the management level superiors. 3. Operational Management: Managing the floor, adherence to schedule and monitoring of attendance. Submits daily report to the management level superiors. 4. Monitoring the portal periodically, prioritizing jobs according to TAT, and assigning jobs to correct work pool. 5. Coaching and relaying feedback to MTs/Editors. 6. To motivate the team to achieve the client targets. Update the team on the status of work at the start and end of each shift. 7. Compiling reports on team's performance and client feedback.  \"Process Executive\" in Infosys BPO Limited, Bangalore  CISCO -  Bengaluru, Karnataka -  January 2006 to July 2008  Job Profile: - 1. To handle end to end order placement process of Cisco. 2. Book orders for customers as per Cisco's booking policies. 3. Customer advocacy. 4. Check and avail special discounts, services, licensing, upgrades etc., to the customers. 5. Receive customer feedback on products, services etc., and resolve them if any. 6. To work along with logistic team to ensure that the products reach precise destinations safely. 7. Provide round the clock 24/7 customer service to the client.  \"Sr. Medical Transcriptionist\"  DTS Information Systems Pvt. Ltd -  Bengaluru, Karnataka -  December 2004 to January 2006  in DTS Information Systems Pvt. Ltd, Bangalore (A wholly owned subsidiary of DTS America Inc., Tennessee, USA) from Dec 2004 - Jan 2006. Client: Vanderbilt University Medical Center, Nashville, Tennessee.  Job Profile: - 1. To transcribe documents pertaining to patient's summary of illness, diseases and diagnostic procedures etc. to avail medical insurance claims as per American transcription guidelines. 2. To ensure that finished end document meets the clients TAT and Quality requirements. 3. To counsel MT's regarding their errors etc and if needed conduct team huddles. Computer Exposure  Operating System: Windows XP Microsoft Office Package: MS Excel, MS Word, MS Access and Power Point. Experience in working on Oracle.  ❖ Completed MS Excel Level 1, 2 &amp; 3 Courses from New Horizons Computer Training Center, Qatar.    EDUCATION  B.Sc. in Microbiology in Microbiology  S.N.G College, Bharathiar University  April 2004  SKILLS  Storekeeping / Inventory Management / Purchase (2 years), People & Time Management (2 years)  ADDITIONAL INFORMATION  Competencies  ❖ Effective communications skills, excellent interpersonal skills, good time management skills, results-oriented individual and a very good team player. ❖ Sincere, hardworking and willing to take up challenging assignments.  Other Qualifications  ❖ ISO 27001: 2013 Internal Auditor Certification from Coms Vantage Consultancy, Qatar in October 2014 ❖ ISO 27001: 2013 Awareness Certification from Coms Vantage Consultancy, Qatar in September 2014 ❖ Carriage of Dangerous Goods by Road Certification in 2012 from IRU Academy in tie up with Mowasalat - State of Qatar owned Transport Company. ❖ First class in Hindi Parichaya Examination conducted by Dakshina Bharat Hindi Prachar Sabha. ❖ Second class in Prathamic Examination conducted by Dakshina Bharat Hindi Prachar Sabha.\n"
          ]
        }
      ],
      "source": [
        "nlp_model=spacy.load('project-code-v2')\n",
        "print(train_data[0][0])"
      ]
    },
    {
      "cell_type": "code",
      "execution_count": null,
      "id": "17173343",
      "metadata": {
        "id": "17173343",
        "colab": {
          "base_uri": "https://localhost:8080/"
        },
        "outputId": "daf533f4-7b04-488f-d486-882efafa8f02"
      },
      "outputs": [
        {
          "output_type": "stream",
          "name": "stdout",
          "text": [
            "NAME                          -Vineeth Vijayan\n",
            "DESIGNATION                   -Store Executive\n",
            "SKILLS                        -Orange City Hospital & Research Institute\n",
            "EMAIL ADDRESS                 -indeed.com/r/Vineeth-Vijayan/ ee84e7ea0695181f\n",
            "DESIGNATION                   -Store Executive\n",
            "DESIGNATION                   -Store Executive\n",
            "SKILLS                        -Orange City Hospital & Research Institute -  Nagpur, Maharashtra -  March 2016 to Present  Job Profile: - 1. Keep records to maintain inventory control, cost containment and to assure proper stock levels. 2. Rotate stock and arrange for disposal of surpluses. 3. Plan and perform work that involves ordering, receiving, inspecting, returning, unloading, shelving, packing, labeling and maintaining a perpetual inventory of items. 4. Coordinate freight handling, equipment moving and minor repairs. 5. Perform peripheral site-specific duties as required and instructed by supervisors. 6. Monitoring and updating stock details etc. in Mednet store software. Use ABC, VED &amp; FSN Stock Analysis methods when required. 7. Report any stock discrepancy to supervisor for appropriate action.  \"HR Officer \"\n",
            "GRADUATION YEAR               -2011\n",
            "DEGREE                        -B.Sc. in Microbiology in Microbiology\n",
            "COLLEGE NAME                  -S.N.G College, Bharathiar University\n",
            "SKILLS                        -Storekeeping / Inventory Management / Purchase (2 years), People & Time Management (2 years)\n",
            "SKILLS                        -❖ Effective communications skills, excellent interpersonal skills, good time management skills, results-oriented individual and a very good team player. ❖ Sincere, hardworking and willing to take up challenging assignments.  Other Qualifications  ❖ ISO 27001: 2013 Internal Auditor Certification from Coms Vantage Consultancy, Qatar in October\n",
            "GRADUATION YEAR               -2014\n",
            "GRADUATION YEAR               -2014\n"
          ]
        }
      ],
      "source": [
        "nlp_model=spacy.load('project-code-v2')\n",
        "doc=nlp_model(train_data[0][0])\n",
        "for ent in doc.ents:\n",
        "    print(f'{ent.label_.upper():{30}}-{ent.text}')"
      ]
    },
    {
      "cell_type": "code",
      "source": [
        "! pip install pymupdf"
      ],
      "metadata": {
        "colab": {
          "base_uri": "https://localhost:8080/"
        },
        "id": "udDXrevzRUBD",
        "outputId": "2bbff136-66ca-4a5b-f113-e91b05e27ffb"
      },
      "id": "udDXrevzRUBD",
      "execution_count": null,
      "outputs": [
        {
          "output_type": "stream",
          "name": "stdout",
          "text": [
            "Collecting pymupdf\n",
            "  Downloading PyMuPDF-1.19.6-cp37-cp37m-manylinux_2_17_x86_64.manylinux2014_x86_64.whl (8.8 MB)\n",
            "\u001b[K     |████████████████████████████████| 8.8 MB 24.0 MB/s \n",
            "\u001b[?25hInstalling collected packages: pymupdf\n",
            "Successfully installed pymupdf-1.19.6\n"
          ]
        }
      ]
    },
    {
      "cell_type": "code",
      "execution_count": null,
      "id": "3ce9f2a2",
      "metadata": {
        "colab": {
          "base_uri": "https://localhost:8080/"
        },
        "id": "3ce9f2a2",
        "outputId": "06d59c8b-561f-4136-a534-685636575b46"
      },
      "outputs": [
        {
          "output_type": "stream",
          "name": "stdout",
          "text": [
            "Cristian Garcia\n",
            "Machine Learning Engineer\n",
            "cgarcia.e88@gmail.com\n",
            "@cgarciae88\n",
            "@cgarciae\n",
            "Currently\n",
            "Machine Learning Engineer at Quansight\n",
            "Author of Elegy and Treex\n",
            "Specialized in\n",
            "Machine Learning, Deep Learning, MLOps, Open\n",
            "Source\n",
            "Summary\n",
            "Machine Learning Engineer and Software Developer\n",
            "with a background in math and physics. Extensive\n",
            "experience creating ML applications in ﬁelds such as\n",
            "autonomous vehicles, video analytics, and\n",
            "manufacturing. Strong combination of theory, coding,\n",
            "and infrastructure knowledge. Member of Toptal: top\n",
            "3% of the developer talent in the world.\n",
            "Open Source\n",
            "Author of various Python open source projects\n",
            "including Elegy, Treex, Treeo and Pypeln. Contributed\n",
            "to Tensorﬂow Addons, Spektral, Einops, and other\n",
            "projects.\n",
            "Community\n",
            "Community leader and active speaker at conferences\n",
            "world-wide, founder of the Machine Learning Meetup\n",
            "Medellin, and cofounder of Machine Learning\n",
            "Colombia.\n",
            "Skills\n",
            "Python (10+ years), TensorFlow, Pytorch, Jax, Numpy,\n",
            "Pandas, Scikit-Learn, Spark, Flask, FastAPI, SQL, Bash,\n",
            "Docker, KubeFlow, GCP, AWS\n",
            "Experience\n",
            "Quansight\n",
            "current\n",
            "Software Developer / Machine Learning Engineer\n",
            "Open Source, Machine Learning, time series for trading, sklearn, jax.\n",
            "Snappr Inc\n",
            "1 year\n",
            "Senior Machine Learning Engineer\n",
            "Machine Learning, demand forecast, photo aesthetics prediction,\n",
            "image clustering.\n",
            "Landing AI\n",
            "1 year\n",
            "Machine Learning Engineer\n",
            "Deep Learning, Automatic Visual Inspection for the automotive\n",
            "industry, synthetic data generation, GANs\n",
            "Bigbang Media\n",
            "6 months\n",
            "Lead Engineer in Computer Vision\n",
            "Deep Learning, video classiﬁcation, Tensorﬂow, TPUs, and Dataﬂow\n",
            "Kiwi Campus\n",
            "1 year\n",
            "Lead Machine Learning Engineer\n",
            "Deep Learning, autonomous driving delivery robots, computer\n",
            "vision, TensorFlow, ROS\n",
            "Senseta\n",
            "1 year\n",
            "Data Scientist\n",
            "Machine Learning, Spark, Zeppelin, Scikit Learning, Flask\n",
            "\n"
          ]
        },
        {
          "output_type": "stream",
          "name": "stderr",
          "text": [
            "Deprecation: 'getText' removed from class 'Page' after v1.19 - use 'get_text'.\n"
          ]
        }
      ],
      "source": [
        "# !install pymupdf\n",
        "import sys,fitz\n",
        "fname='ml.pdf'\n",
        "doc=fitz.open(fname)\n",
        "text=\"\"\n",
        "for page in doc:\n",
        "    text=text+str(page.getText())\n",
        "# tx= open(\"onec.txt\",\"r\")\n",
        "# contents=''\n",
        "# with open('onec.txt') as f:\n",
        "#     contents += str(f.read())\n",
        "# tx=\" \".join(tx.split('\\n'))\n",
        "print(text)\n",
        "# print(tx.readlines())"
      ]
    },
    {
      "cell_type": "code",
      "execution_count": null,
      "id": "fbaac0c5",
      "metadata": {
        "id": "fbaac0c5",
        "outputId": "64ca455d-79de-45ad-9f02-d9b34987463c",
        "colab": {
          "base_uri": "https://localhost:8080/"
        }
      },
      "outputs": [
        {
          "output_type": "stream",
          "name": "stdout",
          "text": [
            "NAME                          -Cristian Garcia\n",
            "LOCATION                      -Treex\n"
          ]
        }
      ],
      "source": [
        "nlp_model=spacy.load('project-code-v2')\n",
        "doc=nlp_model(text)\n",
        "for ent in doc.ents:\n",
        "    print(f'{ent.label_.upper():{30}}-{ent.text}')"
      ]
    }
  ],
  "metadata": {
    "kernelspec": {
      "display_name": "Python 3",
      "language": "python",
      "name": "python3"
    },
    "language_info": {
      "codemirror_mode": {
        "name": "ipython",
        "version": 3
      },
      "file_extension": ".py",
      "mimetype": "text/x-python",
      "name": "python",
      "nbconvert_exporter": "python",
      "pygments_lexer": "ipython3",
      "version": "3.8.8"
    },
    "colab": {
      "name": "Untitled.ipynb",
      "provenance": []
    }
  },
  "nbformat": 4,
  "nbformat_minor": 5
}